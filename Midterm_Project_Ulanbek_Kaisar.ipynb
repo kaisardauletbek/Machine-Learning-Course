{
  "cells": [
    {
      "cell_type": "markdown",
      "metadata": {
        "id": "FAvqIdjgzTeQ"
      },
      "source": [
        "#**Midterm Project**\n",
        "Contributors: Kaisar Dauletbek, Ulanbek Kurmaniyazov\n"
      ]
    },
    {
      "cell_type": "markdown",
      "metadata": {
        "id": "GjkR-yokz40C"
      },
      "source": [
        "###**1) Linear Regression**"
      ]
    },
    {
      "cell_type": "code",
      "execution_count": 1,
      "metadata": {
        "id": "rz7HNdvBzHvo"
      },
      "outputs": [],
      "source": [
        "#importing the necessary libraries\n",
        "import numpy as np\n",
        "import matplotlib.pyplot as plt\n",
        "import sklearn\n",
        "from sklearn import datasets\n",
        "from sklearn.linear_model import Perceptron\n",
        "from sklearn.model_selection import train_test_split\n",
        "from sklearn.linear_model import LinearRegression, LogisticRegression\n",
        "from sklearn.metrics import zero_one_loss, accuracy_score, mean_squared_error\n",
        "import random\n",
        "import numpy as np\n",
        "from tqdm import tqdm\n",
        "import math\n",
        "\n",
        "%matplotlib inline "
      ]
    },
    {
      "cell_type": "code",
      "execution_count": 21,
      "metadata": {
        "id": "n4TsuMtn0TJF"
      },
      "outputs": [],
      "source": [
        "# True decision function\n",
        "def f(x):\n",
        "    return 1.5*x - 10\n",
        "\n",
        "#Plotting function\n",
        "def plot(X, f_x, w_pocket, w_lin, n):\n",
        "  xs = np.arange(0, n, 1)\n",
        "\n",
        "  figsize = plt.figaspect(1)\n",
        "  f, ax = plt.subplots(1, 1, figsize=figsize)\n",
        "  true_line = ax.plot(X[:, 0], f_x, label='True Function')\n",
        "  ax.scatter(X[:,0], X[:,1], s=40, c=y, cmap=plt.cm.Spectral)\n",
        "\n",
        "  hypothesis_line_pocket = ax.plot(xs, (w_pocket[0]+w_pocket[1]*xs), c = 'r', label='Pocket PLA Hypothesis')\n",
        "  hypothesis_line_lin = ax.plot(xs, (w_lin[0]+w_lin[1]*xs), c = 'g', label='Linreg Hypothesis')\n",
        "\n",
        "  ax.set_ylabel(r\"$y$\", fontsize=15, c = 'b')\n",
        "  ax.set_xlabel(r\"$x$\", fontsize=15, c = 'b')\n",
        "  ax.set_title('Data set size = %s'%n, fontsize=20, c = 'b')\n",
        "  ax.axis('tight')\n",
        "\n",
        "  legend_x = 2.0\n",
        "  legend_y = 0.5\n",
        "  ax.legend(['True Function', 'Pocket PLA Hypothesis', 'Linreg Hypothesis', \n",
        "            '1 labels', '0 labels'], \n",
        "            loc='center right', bbox_to_anchor=(legend_x, legend_y))\n",
        "\n",
        "  ax.set_ylim(bottom=0, top=100)\n",
        "  plt.show()\n",
        "\n",
        "#data generating function\n",
        "def generate_data(n, d):\n",
        "  X = np.random.randint(100 ,size = (n,d))\n",
        "  y = []\n",
        "  f_x = []\n",
        "  for i in range(n):\n",
        "      f_x.append(f(X[i][0]))\n",
        "      if X[i][1] >= f(X[i][0]):\n",
        "          y.append(1)\n",
        "      else:\n",
        "          y.append(0)\n",
        "\n",
        "  #making dataset linearly non-separable\n",
        "  for i in range(n//10):\n",
        "      ind = random.randint(0,n-1)\n",
        "      if y[ind] == 1:\n",
        "        y[ind] = 0\n",
        "      else:\n",
        "        y[ind] = 1\n",
        "  \n",
        "  return X, y, f_x\n",
        "\n",
        "# the algorithm for pocket PLA, which takes the training set and labels as arguments\n",
        "def pocket_pla(X, y):\n",
        "  lr = 0.1  # a learning rate for weight update\n",
        "  w = np.zeros(d).reshape(2,1)  # initializing a zero-vector of weights\n",
        "  n_iter = 1000  # number of training iterations\n",
        "  min_error = 10000  # a maximal bound for the error to initialize the pocket algorithm\n",
        "  for epoch in range(0, n_iter):\n",
        "    error = 0\n",
        "    for i in range(len(X)):      \n",
        "      X_i = X[i].reshape(-1, X.shape[1])\n",
        "      y_i = y[i]\n",
        "      prediction = np.dot(X_i, w)[0][0]  # prediction -- w.T * X[i]\n",
        "      if y_i == 1 and prediction <= 0:  # weight update rule\n",
        "        error += 1\n",
        "        w = w + lr * X_i.T\n",
        "      elif y_i == -1 and prediction >= 0:  # weight update rule\n",
        "        error += 1\n",
        "        w = w - lr * X_i.T\n",
        "\n",
        "    if error<min_error:  #pocket algorithm -- saving w if the error is smaller than for previous w\n",
        "      min_error = error\n",
        "      w_pocket = w\n",
        "\n",
        "  w_pocket = w_pocket / np.linalg.norm(w_pocket)  #normalizing the final weight vector\n",
        "  return w_pocket"
      ]
    },
    {
      "cell_type": "code",
      "execution_count": 22,
      "metadata": {
        "id": "qqPWxTBs0jM4"
      },
      "outputs": [],
      "source": [
        "n = 100\n",
        "n_test = 1000\n",
        "#dimensionality\n",
        "d = 2 \n",
        "#generating training data with n = 100\n",
        "X, y, f_x = generate_data(n,d)\n",
        "#generating test data with n_test = 1000\n",
        "X_test, y_test, f_x_test = generate_data(n_test,d)\n"
      ]
    },
    {
      "cell_type": "code",
      "execution_count": 23,
      "metadata": {
        "colab": {
          "base_uri": "https://localhost:8080/"
        },
        "id": "aAIyYCtF-N4g",
        "outputId": "1738f628-18ad-4dbb-9724-ec64eb76692e"
      },
      "outputs": [
        {
          "name": "stdout",
          "output_type": "stream",
          "text": [
            "w pocket:\n",
            "[[0.2903058 ]\n",
            " [0.95693393]]\n",
            "w linreg:\n",
            "[[-0.00977836]\n",
            " [ 0.00435232]]\n"
          ]
        }
      ],
      "source": [
        "#training pocket pla\n",
        "w_pocket = pocket_pla(X,y)\n",
        "print(\"w pocket:\")\n",
        "print(w_pocket)\n",
        "\n",
        "#training linreg\n",
        "reg = LinearRegression().fit(X, y)\n",
        "w_lin = reg.coef_.reshape(2,1)\n",
        "print(\"w linreg:\")\n",
        "print(w_lin)\n"
      ]
    },
    {
      "cell_type": "code",
      "execution_count": 24,
      "metadata": {
        "colab": {
          "base_uri": "https://localhost:8080/",
          "height": 305
        },
        "id": "fwmKs9S20tHK",
        "outputId": "67d5da3b-8f94-4f96-b37f-7ff9e00e0921"
      },
      "outputs": [
        {
          "data": {
            "image/png": "[encoded data removed]",
            "text/plain": [
              "<Figure size 288x288 with 1 Axes>"
            ]
          },
          "metadata": {
            "needs_background": "light"
          },
          "output_type": "display_data"
        }
      ],
      "source": [
        "plot(X, f_x, w_pocket, w_lin*100, 100)"
      ]
    },
    {
      "cell_type": "code",
      "execution_count": 25,
      "metadata": {
        "cellView": "form",
        "id": "w-80ishlJrj5"
      },
      "outputs": [],
      "source": [
        "#@title A plot of decision rule lines for pocket PLA and linear regression."
      ]
    },
    {
      "cell_type": "code",
      "execution_count": 26,
      "metadata": {
        "colab": {
          "base_uri": "https://localhost:8080/"
        },
        "id": "kGpCcct1O-dV",
        "outputId": "b2ddf13f-ef34-4fef-e1cf-3145e4c2a85c"
      },
      "outputs": [
        {
          "name": "stdout",
          "output_type": "stream",
          "text": [
            "Pocket PLA Error: 0.594\n",
            "Linreg Error: 0.239\n"
          ]
        }
      ],
      "source": [
        "#a funtion to compute the zero-one losses\n",
        "def zero_one_loss_for_w(w_pocket, w_lin, X_test, y_test):\n",
        "  y_pred_pocket = []\n",
        "  y_pred_lin = []\n",
        "  y_true = y_test\n",
        "  for x in X_test:\n",
        "    prediction_pocket = np.dot(w_pocket.T, x)\n",
        "    prediction_lin = np.dot(w_lin.T, x)\n",
        "    if prediction_lin >= 0:\n",
        "      y_pred_lin.append(1)\n",
        "    else:\n",
        "      y_pred_lin.append(0)\n",
        "\n",
        "    if prediction_pocket >= 0:\n",
        "      y_pred_pocket.append(1)\n",
        "    else:\n",
        "      y_pred_pocket.append(0)\n",
        "\n",
        "  pocket_loss = zero_one_loss(y_true, y_pred_pocket)\n",
        "  lin_loss = zero_one_loss(y_true, y_pred_lin)\n",
        "\n",
        "  return pocket_loss, lin_loss\n",
        "\n",
        "pocket_loss, lin_loss = zero_one_loss_for_w(w_pocket, w_lin, X_test, y_test)\n",
        "print(\"Pocket PLA Error: \"+ str(pocket_loss))\n",
        "print(\"Linreg Error: \"+ str(lin_loss))"
      ]
    },
    {
      "cell_type": "code",
      "execution_count": 27,
      "metadata": {
        "colab": {
          "base_uri": "https://localhost:8080/"
        },
        "id": "MZfYhb6dPctm",
        "outputId": "c43a1717-84a1-4980-b4a7-138e9073be1a"
      },
      "outputs": [
        {
          "name": "stderr",
          "output_type": "stream",
          "text": [
            "100%|██████████| 100/100 [00:43<00:00,  2.28it/s]\n"
          ]
        }
      ],
      "source": [
        "E_w_pocket = []\n",
        "E_w_lin = []\n",
        "T = np.arange(0, 100, 1)\n",
        "for t in tqdm(T):\n",
        "  n = 100\n",
        "  n_test = 1000\n",
        "  #dimensionality\n",
        "  d = 2 \n",
        "  #generating training data with n = 100\n",
        "  X, y, f_x = generate_data(n,d)\n",
        "  #generating test data with n_test = 1000\n",
        "  X_test, y_test, f_x_test = generate_data(n_test,d)\n",
        "\n",
        "  #training pocket pla\n",
        "  w_pocket = pocket_pla(X,y)\n",
        "  #training linreg\n",
        "  reg = LinearRegression().fit(X, y)\n",
        "  w_lin = reg.coef_.reshape(2,1)\n",
        "\n",
        "  pocket_loss, lin_loss = zero_one_loss_for_w(w_pocket, w_lin, X_test, y_test)\n",
        "  E_w_pocket.append(pocket_loss)\n",
        "  E_w_lin.append(lin_loss)\n"
      ]
    },
    {
      "cell_type": "code",
      "execution_count": 28,
      "metadata": {
        "colab": {
          "base_uri": "https://localhost:8080/",
          "height": 283
        },
        "id": "XMIYF-6AYsrx",
        "outputId": "147ff441-e3dd-4652-d7f6-4dd351b0bc31"
      },
      "outputs": [
        {
          "data": {
            "text/plain": [
              "[<matplotlib.lines.Line2D at 0x7f810ae00ed0>]"
            ]
          },
          "execution_count": 28,
          "metadata": {},
          "output_type": "execute_result"
        },
        {
          "data": {
            "image/png": "[encoded data removed]",
            "text/plain": [
              "<Figure size 432x288 with 1 Axes>"
            ]
          },
          "metadata": {
            "needs_background": "light"
          },
          "output_type": "display_data"
        }
      ],
      "source": [
        "#blue - pocket error, orange - linreg error\n",
        "plt.plot(T, E_w_pocket)\n",
        "plt.plot(T, E_w_lin)"
      ]
    },
    {
      "cell_type": "markdown",
      "metadata": {},
      "source": [
        "As we can see, linear regression outperforms the pocket PLA in our case. This may happen due to the fact that we use a fairly basic weight update rule for pocket PLA, while linear regression algorithm minimizes the objective function (the 2-norm), which yields much more precise results."
      ]
    },
    {
      "cell_type": "markdown",
      "metadata": {
        "id": "WLguNf8Z09JK"
      },
      "source": [
        "###**2) Logistic Regression**"
      ]
    },
    {
      "cell_type": "code",
      "execution_count": 11,
      "metadata": {
        "id": "aRUDfSoxyhe5"
      },
      "outputs": [],
      "source": [
        "#gradient function\n",
        "def gradient(x, y, w):\n",
        "  return -y*x/(1+math.exp(y*np.dot(w, x)))\n",
        "\n",
        "#sign function\n",
        "def sign(z):\n",
        "  if z>0:\n",
        "    return 1\n",
        "  else:\n",
        "    return -1\n",
        "\n",
        "#error function\n",
        "def error_f(X, y, w):\n",
        "  a, b = X.shape\n",
        "  sum = 0\n",
        "  for i in range(a):\n",
        "    sum += math.log(1+math.exp(-y[i]*(np.dot(w, X[i]))))\n",
        "  return sum/a\n",
        "\n",
        "#sgd algorithm\n",
        "def stochastic_gradient_descent(X, y, lr, T):\n",
        "  X_train, X_test, y_train, y_test = train_test_split(X, y, test_size = 0.2) #generating train and test splits\n",
        "  a, b = X_train.shape\n",
        "  w = np.zeros(b) #initializing zero vector of size of columns of training data\n",
        "  \n",
        "  E_train = []\n",
        "  E_test = []\n",
        "\n",
        "  for i in range(T):\n",
        "    n = random.randint(0, a-1) #picking a random row index for sgd\n",
        "    w = w - lr * gradient(X_train[n], y_train[n], w)  #updating w based on gradient\n",
        "\n",
        "    E_train.append(error_f(X_train, y_train, w))  #train errors per epoch\n",
        "    E_test.append(error_f(X_test, y_test, w))  #testt errors per epoch\n",
        "\n",
        "  return w, E_train, E_test"
      ]
    },
    {
      "cell_type": "code",
      "execution_count": 12,
      "metadata": {
        "id": "Kv7XMD7dyvHv"
      },
      "outputs": [],
      "source": [
        "#downloading the dataset\n",
        "iris = datasets.load_iris()\n",
        "\n",
        "X = iris.data\n",
        "y = iris.target\n",
        "\n",
        "X_train, X_test, y_train, y_test = train_test_split(X, y, test_size = 0.2)"
      ]
    },
    {
      "cell_type": "code",
      "execution_count": 13,
      "metadata": {
        "colab": {
          "base_uri": "https://localhost:8080/"
        },
        "id": "29XhlPvEZupj",
        "outputId": "c8938fd7-8b0b-4db1-c528-6966dde8f6c0"
      },
      "outputs": [
        {
          "name": "stdout",
          "output_type": "stream",
          "text": [
            "[ 0.11460551  0.41173386 -0.6937665  -0.31685704] [-0.09218403 -0.22716962  0.14149592  0.01084661] [-0.27238073 -0.36063127  0.46029309  0.26803991]\n"
          ]
        }
      ],
      "source": [
        "#suggested learning rate and number of training epochs\n",
        "lr = 0.001 \n",
        "T = 2000\n",
        "\n",
        "#finding datapoints with labels 0\n",
        "y0 = []\n",
        "for i in y:\n",
        "    if i == 0:\n",
        "        y0.append(1)\n",
        "    else:\n",
        "        y0.append(-1)\n",
        "#calculating weight vector for label 0\n",
        "w0, E0_train, E0_test = stochastic_gradient_descent(X, y0, lr, T)\n",
        "\n",
        "#finding datapoints with labels 1\n",
        "y1 = []\n",
        "for i in y:\n",
        "    if i == 1:\n",
        "        y1.append(1)\n",
        "    else:\n",
        "        y1.append(-1)\n",
        "#calculating weight vector for label 1\n",
        "w1, E1_train, E1_test = stochastic_gradient_descent(X, y1, lr, T)\n",
        "\n",
        "#finding datapoints with labels 2\n",
        "y2 = []\n",
        "for i in y:\n",
        "    if i == 2:\n",
        "        y2.append(1)\n",
        "    else:\n",
        "        y2.append(-1)\n",
        "#calculating weight vector for label 2\n",
        "w2, E2_train, E2_test = stochastic_gradient_descent(X, y2, lr, T)\n",
        "\n",
        "print(w0, w1, w2)"
      ]
    },
    {
      "cell_type": "code",
      "execution_count": 14,
      "metadata": {
        "colab": {
          "base_uri": "https://localhost:8080/",
          "height": 299
        },
        "id": "rfq0pJvZbt2M",
        "outputId": "4d5a9d5b-8da1-4988-af6d-07a331cf0203"
      },
      "outputs": [
        {
          "data": {
            "text/plain": [
              "Text(0.5, 1.0, 'First class vs All')"
            ]
          },
          "execution_count": 14,
          "metadata": {},
          "output_type": "execute_result"
        },
        {
          "data": {
            "image/png": "[encoded data removed]",
            "text/plain": [
              "<Figure size 432x288 with 1 Axes>"
            ]
          },
          "metadata": {
            "needs_background": "light"
          },
          "output_type": "display_data"
        }
      ],
      "source": [
        "plt.plot(E0_train, c = 'b')\n",
        "plt.plot(E0_test, c = 'r')\n",
        "plt.title(\"First class vs All\")"
      ]
    },
    {
      "cell_type": "code",
      "execution_count": 15,
      "metadata": {
        "colab": {
          "base_uri": "https://localhost:8080/",
          "height": 299
        },
        "id": "8iCqz9CD86Fp",
        "outputId": "990f128f-0dd5-431c-aa0d-41729a65cd1b"
      },
      "outputs": [
        {
          "data": {
            "text/plain": [
              "Text(0.5, 1.0, 'Second class vs All')"
            ]
          },
          "execution_count": 15,
          "metadata": {},
          "output_type": "execute_result"
        },
        {
          "data": {
            "image/png": "[encoded data removed]",
            "text/plain": [
              "<Figure size 432x288 with 1 Axes>"
            ]
          },
          "metadata": {
            "needs_background": "light"
          },
          "output_type": "display_data"
        }
      ],
      "source": [
        "plt.plot(E1_train, c = 'b')\n",
        "plt.plot(E1_test, c = 'r')\n",
        "plt.title(\"Second class vs All\")"
      ]
    },
    {
      "cell_type": "code",
      "execution_count": 16,
      "metadata": {
        "colab": {
          "base_uri": "https://localhost:8080/",
          "height": 299
        },
        "id": "1BC-ldk-87BQ",
        "outputId": "f42a6435-efd7-43eb-e5a9-a59fb1a6e54d"
      },
      "outputs": [
        {
          "data": {
            "text/plain": [
              "Text(0.5, 1.0, 'Third class vs All')"
            ]
          },
          "execution_count": 16,
          "metadata": {},
          "output_type": "execute_result"
        },
        {
          "data": {
            "image/png": "[encoded data removed]",
            "text/plain": [
              "<Figure size 432x288 with 1 Axes>"
            ]
          },
          "metadata": {
            "needs_background": "light"
          },
          "output_type": "display_data"
        }
      ],
      "source": [
        "plt.plot(E2_train, c = 'b')\n",
        "plt.plot(E2_test, c = 'r')\n",
        "plt.title(\"Third class vs All\")"
      ]
    },
    {
      "cell_type": "code",
      "execution_count": 17,
      "metadata": {
        "id": "-4CEbmcmZwla"
      },
      "outputs": [],
      "source": [
        "#function g which returns the label for the datapoint\n",
        "def g(x, w0, w1, w2):\n",
        "  prediction_w0 = np.dot(x, w0)\n",
        "  prediction_w1 = np.dot(x, w1)\n",
        "  prediction_w2 = np.dot(x, w2)\n",
        "\n",
        "  if prediction_w0 > prediction_w1 and prediction_w0 > prediction_w2:\n",
        "    return 0\n",
        "  elif prediction_w1 > prediction_w0 and prediction_w1 > prediction_w2:\n",
        "    return 1\n",
        "  else:\n",
        "    return 2"
      ]
    },
    {
      "cell_type": "code",
      "execution_count": 18,
      "metadata": {
        "colab": {
          "base_uri": "https://localhost:8080/"
        },
        "id": "01CcA56ZZw2q",
        "outputId": "578b9130-5e65-42a9-83af-5648d8b8cd92"
      },
      "outputs": [
        {
          "name": "stdout",
          "output_type": "stream",
          "text": [
            "Test error rate: 0.2\n"
          ]
        }
      ],
      "source": [
        "predictions_test = []\n",
        "#testing the decision function on testing split\n",
        "for x in X_test:\n",
        "  prediction_g = g(x, w0, w1, w2)\n",
        "  predictions_test.append(prediction_g)\n",
        "\n",
        "error = 0\n",
        "#calculating test error rate\n",
        "for i in range(len(y_test)):\n",
        "  if predictions_test[i] == y_test[i]:\n",
        "    pass\n",
        "  else:\n",
        "    error += 1\n",
        "  \n",
        "print(\"Test error rate: \" + str(error/len(y_test)))"
      ]
    },
    {
      "cell_type": "markdown",
      "metadata": {},
      "source": [
        "As we can see, the OVA algorithm achieves a decent test error rate, which shows that OVA classification is beneficial for IRIS dataset"
      ]
    },
    {
      "cell_type": "markdown",
      "metadata": {
        "id": "Ieb1-vIJHbWZ"
      },
      "source": [
        "###**3) Practical Design of Learning Algorithm**"
      ]
    },
    {
      "cell_type": "code",
      "execution_count": 33,
      "metadata": {
        "id": "K2HGxW88IVs3"
      },
      "outputs": [],
      "source": [
        "#Downloading the digits dataset\n",
        "digits = datasets.load_digits()\n",
        "\n",
        "X = digits.data\n",
        "y = digits.target"
      ]
    },
    {
      "cell_type": "code",
      "execution_count": 37,
      "metadata": {
        "id": "Qbqn_okpWdtj"
      },
      "outputs": [],
      "source": [
        "#cross validation function for linear regression\n",
        "def cross_val_linreg(X, y, n):\n",
        "  m = y.shape[0]\n",
        "  d_size = m//n\n",
        "  errors = []\n",
        "\n",
        "  for i in range(n):\n",
        "    #generating a mask\n",
        "    test_mask = np.zeros(m, dtype = bool)\n",
        "    test_mask[i*d_size : (i+1)*d_size] = True\n",
        "    #masking the dataset\n",
        "    X_test, y_test = X[test_mask], y[test_mask]\n",
        "    X_train, y_train = X[~test_mask], y[~test_mask]\n",
        "\n",
        "    #running linreg on masked dataset\n",
        "    linreg = LinearRegression()\n",
        "    linreg.fit(X_train, y_train)\n",
        "    predictions = linreg.predict(X_test)\n",
        "    errors.append(mean_squared_error(y_test, predictions))\n",
        "    \n",
        "  return np.mean(errors)\n",
        "\n",
        "#cross validation function for logistic regression\n",
        "def cross_val_logreg(X, y, n):\n",
        "  m = y.shape[0]\n",
        "  d_size = m//n\n",
        "  errors = []\n",
        "\n",
        "  for i in range(n):\n",
        "    #generating a mask\n",
        "    test_mask = np.zeros(m, dtype = bool)\n",
        "    test_mask[i*d_size : (i+1)*d_size] = True\n",
        "    #masking the dataset\n",
        "    X_test, y_test = X[test_mask], y[test_mask]\n",
        "    X_train, y_train = X[~test_mask], y[~test_mask]\n",
        "\n",
        "    #running logreg on masked dataset\n",
        "    logreg = LogisticRegression(max_iter=5000)\n",
        "    logreg.fit(X_train, y_train)\n",
        "    predictions = logreg.predict(X_test)\n",
        "    errors.append(accuracy_score(y_test, predictions))\n",
        "    \n",
        "  return np.mean(errors)"
      ]
    },
    {
      "cell_type": "code",
      "execution_count": null,
      "metadata": {
        "colab": {
          "base_uri": "https://localhost:8080/"
        },
        "id": "3A39PbEMmZgD",
        "outputId": "cd540e78-fb6f-47d9-edf1-68e0c476b42d"
      },
      "outputs": [
        {
          "name": "stdout",
          "output_type": "stream",
          "text": [
            "5-fold cross-validated linreg and logreg errors:  4.047506983313386, 0.9181058495821727\n",
            "10-fold cross-validated linreg and logreg errors:  3.8342898970964105, 0.9256983240223464\n",
            "20-fold cross-validated linreg and logreg errors:  3.6972620028083027, 0.94438202247191\n",
            "\n",
            "\n",
            "\n",
            "LOOCV linreg error:  3.5285778378594754\n"
          ]
        }
      ],
      "source": [
        "print(\"5-fold cross-validated linreg and logreg errors: \", str(cross_val_linreg(X, y, 5)) + ', ' + str(cross_val_logreg(X, y, 5)))\n",
        "\n",
        "print(\"10-fold cross-validated linreg and logreg errors: \", str(cross_val_linreg(X, y, 10)) + ', ' + str(cross_val_logreg(X, y, 10)))\n",
        "\n",
        "print(\"20-fold cross-validated linreg and logreg errors: \", str(cross_val_linreg(X, y, 20)) + ', ' + str(cross_val_logreg(X, y, 20)))\n",
        "print('\\n\\n')\n",
        "a = y.shape[0]\n",
        "print(\"LOOCV linreg error: \", str(cross_val_linreg(X, y, a)))\n",
        "print(\"LOOCV logreg error: \", str(cross_val_logreg(X, y, a)))"
      ]
    },
    {
      "cell_type": "markdown",
      "metadata": {
        "id": "1XwUkXxuShzG"
      },
      "source": [
        "As we can see, the logreg generally outperforms linreg, as it is more suited for the classification task. The difference in error values is due to the fact that we present a normalized rate of error for logreg, and average mean squared error for linreg. Also, tthe LOOCV for logreg is a computationally expensive process, but can be verified with the code with enough wait."
      ]
    },
    {
      "cell_type": "code",
      "execution_count": null,
      "metadata": {
        "colab": {
          "base_uri": "https://localhost:8080/"
        },
        "id": "b2q91pZ-moMH",
        "outputId": "a3f24e51-f502-47ee-b5b3-f9be2f14abb1"
      },
      "outputs": [
        {
          "name": "stdout",
          "output_type": "stream",
          "text": [
            "Best: 0.938774 using {'C': 0.01, 'solver': 'newton-cg'}\n",
            "0.923191 (0.024770) with: {'C': 100, 'solver': 'newton-cg'}\n",
            "0.914299 (0.040613) with: {'C': 100, 'solver': 'liblinear'}\n",
            "0.922076 (0.026258) with: {'C': 10, 'solver': 'newton-cg'}\n",
            "0.919308 (0.040168) with: {'C': 10, 'solver': 'liblinear'}\n",
            "0.928200 (0.026433) with: {'C': 1.0, 'solver': 'newton-cg'}\n",
            "0.925975 (0.039070) with: {'C': 1.0, 'solver': 'liblinear'}\n",
            "0.928752 (0.029358) with: {'C': 0.1, 'solver': 'newton-cg'}\n",
            "0.932647 (0.032342) with: {'C': 0.1, 'solver': 'liblinear'}\n",
            "0.938774 (0.031688) with: {'C': 0.01, 'solver': 'newton-cg'}\n",
            "0.935422 (0.030388) with: {'C': 0.01, 'solver': 'liblinear'}\n"
          ]
        }
      ],
      "source": [
        "from sklearn.model_selection import GridSearchCV\n",
        "#initializing logreg\n",
        "lg = LogisticRegression()\n",
        "#initializing parameters\n",
        "parameters = {'C' : [100, 10, 1.0, 0.1, 0.01], 'solver' : ['newton-cg', 'liblinear']} \n",
        "#chose the newton-cg and liblinear solvers due to convergence issues\n",
        "\n",
        "#initializing grid search with 10-fold cross-validation\n",
        "grid_search = GridSearchCV(estimator = lg, param_grid = parameters, scoring = 'accuracy', cv = 10)\n",
        "#calculating predictions from grid search\n",
        "grid_result = grid_search.fit(X, y)\n",
        "\n",
        "print(\"Best: %f using %s\" % (grid_result.best_score_, grid_result.best_params_))\n",
        "means = grid_result.cv_results_['mean_test_score']\n",
        "stds = grid_result.cv_results_['std_test_score']\n",
        "params = grid_result.cv_results_['params']\n",
        "for mean, stdev, param in zip(means, stds, params):\n",
        "    print(\"%f (%f) with: %r\" % (mean, stdev, param))"
      ]
    },
    {
      "cell_type": "markdown",
      "metadata": {},
      "source": [
        "4) Kaggle Competition: Fashion MNIST"
      ]
    },
    {
      "cell_type": "markdown",
      "metadata": {},
      "source": [
        "Kaggle submission link: https://www.kaggle.com/ulanbekkurmaniyazov/robt407-kurmaniyazov-dauletbek"
      ]
    },
    {
      "cell_type": "code",
      "execution_count": null,
      "metadata": {
        "id": "q5bJ_T4NNaV2"
      },
      "outputs": [],
      "source": []
    }
  ],
  "metadata": {
    "colab": {
      "collapsed_sections": [],
      "provenance": []
    },
    "kernelspec": {
      "display_name": "Python 3.8.10 ('base')",
      "language": "python",
      "name": "python3"
    },
    "language_info": {
      "name": "python",
      "version": "3.8.10"
    },
    "vscode": {
      "interpreter": {
        "hash": "40d3a090f54c6569ab1632332b64b2c03c39dcf918b08424e98f38b5ae0af88f"
      }
    }
  },
  "nbformat": 4,
  "nbformat_minor": 0
}
